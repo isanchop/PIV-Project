{
 "cells": [
  {
   "cell_type": "code",
   "execution_count": 1,
   "metadata": {},
   "outputs": [],
   "source": [
    "import pandas as pd\n",
    "import matplotlib.pyplot as plt\n",
    "import seaborn as sns\n",
    "\n",
    "import numpy as np\n",
    "from sklearn.model_selection import train_test_split"
   ]
  },
  {
   "cell_type": "code",
   "execution_count": 2,
   "metadata": {},
   "outputs": [],
   "source": [
    "%matplotlib inline"
   ]
  },
  {
   "cell_type": "code",
   "execution_count": 3,
   "metadata": {},
   "outputs": [],
   "source": [
    "df = pd.read_csv(\"stats_fingers.csv\")"
   ]
  },
  {
   "cell_type": "code",
   "execution_count": 4,
   "metadata": {},
   "outputs": [],
   "source": [
    "stats = df.drop([\"EulerNumber\", \"id\" ], axis=1)"
   ]
  },
  {
   "cell_type": "code",
   "execution_count": 18,
   "metadata": {},
   "outputs": [
    {
     "name": "stdout",
     "output_type": "stream",
     "text": [
      "<class 'pandas.core.frame.DataFrame'>\n",
      "RangeIndex: 337 entries, 0 to 336\n",
      "Data columns (total 11 columns):\n",
      " #   Column           Non-Null Count  Dtype  \n",
      "---  ------           --------------  -----  \n",
      " 0   Area             337 non-null    float64\n",
      " 1   ConvexArea       337 non-null    float64\n",
      " 2   Eccentricity     337 non-null    float64\n",
      " 3   EquivDiameter    337 non-null    float64\n",
      " 4   MajorAxisLength  337 non-null    float64\n",
      " 5   MinorAxisLength  337 non-null    float64\n",
      " 6   Orientation      337 non-null    float64\n",
      " 7   Perimeter        337 non-null    float64\n",
      " 8   target           337 non-null    float64\n",
      " 9   finger           337 non-null    float64\n",
      " 10  doble            337 non-null    float64\n",
      "dtypes: float64(11)\n",
      "memory usage: 29.1 KB\n"
     ]
    }
   ],
   "source": [
    "stats.info()"
   ]
  },
  {
   "cell_type": "code",
   "execution_count": 29,
   "metadata": {},
   "outputs": [
    {
     "data": {
      "text/html": [
       "<div>\n",
       "<style scoped>\n",
       "    .dataframe tbody tr th:only-of-type {\n",
       "        vertical-align: middle;\n",
       "    }\n",
       "\n",
       "    .dataframe tbody tr th {\n",
       "        vertical-align: top;\n",
       "    }\n",
       "\n",
       "    .dataframe thead th {\n",
       "        text-align: right;\n",
       "    }\n",
       "</style>\n",
       "<table border=\"1\" class=\"dataframe\">\n",
       "  <thead>\n",
       "    <tr style=\"text-align: right;\">\n",
       "      <th></th>\n",
       "      <th>Area</th>\n",
       "      <th>ConvexArea</th>\n",
       "      <th>Eccentricity</th>\n",
       "      <th>EquivDiameter</th>\n",
       "      <th>MajorAxisLength</th>\n",
       "      <th>MinorAxisLength</th>\n",
       "      <th>Orientation</th>\n",
       "      <th>Perimeter</th>\n",
       "      <th>target</th>\n",
       "      <th>finger</th>\n",
       "      <th>doble</th>\n",
       "    </tr>\n",
       "  </thead>\n",
       "  <tbody>\n",
       "    <tr>\n",
       "      <th>0</th>\n",
       "      <td>26.0</td>\n",
       "      <td>32.0</td>\n",
       "      <td>0.7412</td>\n",
       "      <td>5.7536</td>\n",
       "      <td>7.7180</td>\n",
       "      <td>5.1807</td>\n",
       "      <td>10.2004</td>\n",
       "      <td>18.459</td>\n",
       "      <td>0.0</td>\n",
       "      <td>0.0</td>\n",
       "      <td>0.0</td>\n",
       "    </tr>\n",
       "    <tr>\n",
       "      <th>1</th>\n",
       "      <td>29.0</td>\n",
       "      <td>35.0</td>\n",
       "      <td>0.6174</td>\n",
       "      <td>6.0765</td>\n",
       "      <td>7.6766</td>\n",
       "      <td>6.0386</td>\n",
       "      <td>-9.3863</td>\n",
       "      <td>20.510</td>\n",
       "      <td>0.0</td>\n",
       "      <td>0.0</td>\n",
       "      <td>0.0</td>\n",
       "    </tr>\n",
       "    <tr>\n",
       "      <th>2</th>\n",
       "      <td>934.0</td>\n",
       "      <td>1382.0</td>\n",
       "      <td>0.8570</td>\n",
       "      <td>34.4849</td>\n",
       "      <td>52.5469</td>\n",
       "      <td>27.0781</td>\n",
       "      <td>13.8856</td>\n",
       "      <td>152.850</td>\n",
       "      <td>0.0</td>\n",
       "      <td>0.0</td>\n",
       "      <td>0.0</td>\n",
       "    </tr>\n",
       "    <tr>\n",
       "      <th>3</th>\n",
       "      <td>10.0</td>\n",
       "      <td>11.0</td>\n",
       "      <td>0.7218</td>\n",
       "      <td>3.5682</td>\n",
       "      <td>4.7284</td>\n",
       "      <td>3.2725</td>\n",
       "      <td>79.5377</td>\n",
       "      <td>9.643</td>\n",
       "      <td>0.0</td>\n",
       "      <td>0.0</td>\n",
       "      <td>0.0</td>\n",
       "    </tr>\n",
       "    <tr>\n",
       "      <th>4</th>\n",
       "      <td>0.0</td>\n",
       "      <td>0.0</td>\n",
       "      <td>0.0000</td>\n",
       "      <td>0.0000</td>\n",
       "      <td>0.0000</td>\n",
       "      <td>0.0000</td>\n",
       "      <td>0.0000</td>\n",
       "      <td>0.000</td>\n",
       "      <td>0.0</td>\n",
       "      <td>0.0</td>\n",
       "      <td>0.0</td>\n",
       "    </tr>\n",
       "  </tbody>\n",
       "</table>\n",
       "</div>"
      ],
      "text/plain": [
       "    Area  ConvexArea  Eccentricity  EquivDiameter  MajorAxisLength  \\\n",
       "0   26.0        32.0        0.7412         5.7536           7.7180   \n",
       "1   29.0        35.0        0.6174         6.0765           7.6766   \n",
       "2  934.0      1382.0        0.8570        34.4849          52.5469   \n",
       "3   10.0        11.0        0.7218         3.5682           4.7284   \n",
       "4    0.0         0.0        0.0000         0.0000           0.0000   \n",
       "\n",
       "   MinorAxisLength  Orientation  Perimeter  target  finger  doble  \n",
       "0           5.1807      10.2004     18.459     0.0     0.0    0.0  \n",
       "1           6.0386      -9.3863     20.510     0.0     0.0    0.0  \n",
       "2          27.0781      13.8856    152.850     0.0     0.0    0.0  \n",
       "3           3.2725      79.5377      9.643     0.0     0.0    0.0  \n",
       "4           0.0000       0.0000      0.000     0.0     0.0    0.0  "
      ]
     },
     "execution_count": 29,
     "metadata": {},
     "output_type": "execute_result"
    }
   ],
   "source": [
    "stats.head()"
   ]
  },
  {
   "cell_type": "code",
   "execution_count": 8,
   "metadata": {},
   "outputs": [],
   "source": [
    "# sns.pairplot(stats, hue=\"finger\")\n"
   ]
  },
  {
   "cell_type": "code",
   "execution_count": 31,
   "metadata": {},
   "outputs": [],
   "source": [
    "\n",
    "# X = X.drop(X['finger'])\n",
    "\n",
    "# y = stats[\"finger\"]\n",
    "y = stats['finger']\n",
    "X = stats.drop([\"finger\"], axis=1)"
   ]
  },
  {
   "cell_type": "code",
   "execution_count": 33,
   "metadata": {},
   "outputs": [
    {
     "data": {
      "text/plain": [
       "337"
      ]
     },
     "execution_count": 33,
     "metadata": {},
     "output_type": "execute_result"
    }
   ],
   "source": [
    "len(y)"
   ]
  },
  {
   "cell_type": "code",
   "execution_count": 34,
   "metadata": {},
   "outputs": [
    {
     "data": {
      "text/html": [
       "<div>\n",
       "<style scoped>\n",
       "    .dataframe tbody tr th:only-of-type {\n",
       "        vertical-align: middle;\n",
       "    }\n",
       "\n",
       "    .dataframe tbody tr th {\n",
       "        vertical-align: top;\n",
       "    }\n",
       "\n",
       "    .dataframe thead th {\n",
       "        text-align: right;\n",
       "    }\n",
       "</style>\n",
       "<table border=\"1\" class=\"dataframe\">\n",
       "  <thead>\n",
       "    <tr style=\"text-align: right;\">\n",
       "      <th></th>\n",
       "      <th>Area</th>\n",
       "      <th>ConvexArea</th>\n",
       "      <th>Eccentricity</th>\n",
       "      <th>EquivDiameter</th>\n",
       "      <th>MajorAxisLength</th>\n",
       "      <th>MinorAxisLength</th>\n",
       "      <th>Orientation</th>\n",
       "      <th>Perimeter</th>\n",
       "      <th>target</th>\n",
       "      <th>doble</th>\n",
       "    </tr>\n",
       "  </thead>\n",
       "  <tbody>\n",
       "    <tr>\n",
       "      <th>0</th>\n",
       "      <td>26.0</td>\n",
       "      <td>32.0</td>\n",
       "      <td>0.7412</td>\n",
       "      <td>5.7536</td>\n",
       "      <td>7.7180</td>\n",
       "      <td>5.1807</td>\n",
       "      <td>10.2004</td>\n",
       "      <td>18.459</td>\n",
       "      <td>0.0</td>\n",
       "      <td>0.0</td>\n",
       "    </tr>\n",
       "    <tr>\n",
       "      <th>1</th>\n",
       "      <td>29.0</td>\n",
       "      <td>35.0</td>\n",
       "      <td>0.6174</td>\n",
       "      <td>6.0765</td>\n",
       "      <td>7.6766</td>\n",
       "      <td>6.0386</td>\n",
       "      <td>-9.3863</td>\n",
       "      <td>20.510</td>\n",
       "      <td>0.0</td>\n",
       "      <td>0.0</td>\n",
       "    </tr>\n",
       "    <tr>\n",
       "      <th>2</th>\n",
       "      <td>934.0</td>\n",
       "      <td>1382.0</td>\n",
       "      <td>0.8570</td>\n",
       "      <td>34.4849</td>\n",
       "      <td>52.5469</td>\n",
       "      <td>27.0781</td>\n",
       "      <td>13.8856</td>\n",
       "      <td>152.850</td>\n",
       "      <td>0.0</td>\n",
       "      <td>0.0</td>\n",
       "    </tr>\n",
       "    <tr>\n",
       "      <th>3</th>\n",
       "      <td>10.0</td>\n",
       "      <td>11.0</td>\n",
       "      <td>0.7218</td>\n",
       "      <td>3.5682</td>\n",
       "      <td>4.7284</td>\n",
       "      <td>3.2725</td>\n",
       "      <td>79.5377</td>\n",
       "      <td>9.643</td>\n",
       "      <td>0.0</td>\n",
       "      <td>0.0</td>\n",
       "    </tr>\n",
       "    <tr>\n",
       "      <th>4</th>\n",
       "      <td>0.0</td>\n",
       "      <td>0.0</td>\n",
       "      <td>0.0000</td>\n",
       "      <td>0.0000</td>\n",
       "      <td>0.0000</td>\n",
       "      <td>0.0000</td>\n",
       "      <td>0.0000</td>\n",
       "      <td>0.000</td>\n",
       "      <td>0.0</td>\n",
       "      <td>0.0</td>\n",
       "    </tr>\n",
       "  </tbody>\n",
       "</table>\n",
       "</div>"
      ],
      "text/plain": [
       "    Area  ConvexArea  Eccentricity  EquivDiameter  MajorAxisLength  \\\n",
       "0   26.0        32.0        0.7412         5.7536           7.7180   \n",
       "1   29.0        35.0        0.6174         6.0765           7.6766   \n",
       "2  934.0      1382.0        0.8570        34.4849          52.5469   \n",
       "3   10.0        11.0        0.7218         3.5682           4.7284   \n",
       "4    0.0         0.0        0.0000         0.0000           0.0000   \n",
       "\n",
       "   MinorAxisLength  Orientation  Perimeter  target  doble  \n",
       "0           5.1807      10.2004     18.459     0.0    0.0  \n",
       "1           6.0386      -9.3863     20.510     0.0    0.0  \n",
       "2          27.0781      13.8856    152.850     0.0    0.0  \n",
       "3           3.2725      79.5377      9.643     0.0    0.0  \n",
       "4           0.0000       0.0000      0.000     0.0    0.0  "
      ]
     },
     "execution_count": 34,
     "metadata": {},
     "output_type": "execute_result"
    }
   ],
   "source": [
    "X.head()"
   ]
  },
  {
   "cell_type": "code",
   "execution_count": 10,
   "metadata": {},
   "outputs": [
    {
     "data": {
      "text/plain": [
       "335"
      ]
     },
     "execution_count": 10,
     "metadata": {},
     "output_type": "execute_result"
    }
   ],
   "source": [
    "len(y)\n",
    "len(X)"
   ]
  },
  {
   "cell_type": "code",
   "execution_count": 35,
   "metadata": {},
   "outputs": [],
   "source": [
    "X_train, X_test, y_train, y_test = train_test_split(X, y, test_size=0.33, random_state=42)"
   ]
  },
  {
   "cell_type": "code",
   "execution_count": 37,
   "metadata": {},
   "outputs": [],
   "source": [
    "X_train_np = X_train.to_numpy()\n",
    "X_validation_np = X_test.to_numpy()\n",
    "y_train_np = y_train.to_numpy()\n",
    "y_validation_np = y_test.to_numpy()\n"
   ]
  },
  {
   "cell_type": "code",
   "execution_count": 38,
   "metadata": {},
   "outputs": [
    {
     "data": {
      "text/plain": [
       "((225, 10), (112, 10), (225,), (112,))"
      ]
     },
     "execution_count": 38,
     "metadata": {},
     "output_type": "execute_result"
    }
   ],
   "source": [
    "X_train_np.shape, X_validation_np.shape, y_train_np.shape, y_validation_np.shape\n"
   ]
  },
  {
   "cell_type": "code",
   "execution_count": 46,
   "metadata": {},
   "outputs": [],
   "source": [
    "from sklearn.ensemble import RandomForestClassifier\n",
    "from sklearn.ensemble import VotingClassifier\n",
    "from sklearn.linear_model import LogisticRegression\n",
    "from sklearn.svm import SVC\n",
    "from sklearn.model_selection import GridSearchCV\n",
    "\n",
    "from sklearn.metrics import classification_report, accuracy_score, confusion_matrix, f1_score\n"
   ]
  },
  {
   "cell_type": "markdown",
   "metadata": {},
   "source": [
    "# Model implementation"
   ]
  },
  {
   "cell_type": "code",
   "execution_count": 53,
   "metadata": {},
   "outputs": [],
   "source": [
    "rf_param_grid = {\n",
    "    'bootstrap': [True],\n",
    "    'max_depth': [50, 80],\n",
    "    'max_features': [2, 3],\n",
    "    'min_samples_leaf': [3, 4, 5],\n",
    "    'min_samples_split': [8, 10, 12],\n",
    "    'n_estimators': [200, 500]\n",
    "}\n"
   ]
  },
  {
   "cell_type": "code",
   "execution_count": 54,
   "metadata": {},
   "outputs": [
    {
     "name": "stdout",
     "output_type": "stream",
     "text": [
      "Fitting 3 folds for each of 72 candidates, totalling 216 fits\n",
      "[CV] END bootstrap=True, max_depth=50, max_features=2, min_samples_leaf=3, min_samples_split=8, n_estimators=200; total time=   0.5s\n",
      "[CV] END bootstrap=True, max_depth=50, max_features=2, min_samples_leaf=3, min_samples_split=8, n_estimators=200; total time=   0.6s\n",
      "[CV] END bootstrap=True, max_depth=50, max_features=2, min_samples_leaf=3, min_samples_split=8, n_estimators=200; total time=   0.6s\n",
      "[CV] END bootstrap=True, max_depth=50, max_features=2, min_samples_leaf=3, min_samples_split=10, n_estimators=200; total time=   0.6s\n",
      "[CV] END bootstrap=True, max_depth=50, max_features=2, min_samples_leaf=3, min_samples_split=8, n_estimators=500; total time=   1.5s\n",
      "[CV] END bootstrap=True, max_depth=50, max_features=2, min_samples_leaf=3, min_samples_split=10, n_estimators=200; total time=   0.6s\n",
      "[CV] END bootstrap=True, max_depth=50, max_features=2, min_samples_leaf=3, min_samples_split=10, n_estimators=200; total time=   0.6s\n",
      "[CV] END bootstrap=True, max_depth=50, max_features=2, min_samples_leaf=3, min_samples_split=8, n_estimators=500; total time=   1.6s\n",
      "[CV] END bootstrap=True, max_depth=50, max_features=2, min_samples_leaf=3, min_samples_split=8, n_estimators=500; total time=   1.6s\n",
      "[CV] END bootstrap=True, max_depth=50, max_features=2, min_samples_leaf=3, min_samples_split=12, n_estimators=200; total time=   0.6s\n",
      "[CV] END bootstrap=True, max_depth=50, max_features=2, min_samples_leaf=3, min_samples_split=10, n_estimators=500; total time=   1.5s\n",
      "[CV] END bootstrap=True, max_depth=50, max_features=2, min_samples_leaf=3, min_samples_split=12, n_estimators=200; total time=   0.6s\n",
      "[CV] END bootstrap=True, max_depth=50, max_features=2, min_samples_leaf=3, min_samples_split=10, n_estimators=500; total time=   1.5s\n",
      "[CV] END bootstrap=True, max_depth=50, max_features=2, min_samples_leaf=3, min_samples_split=10, n_estimators=500; total time=   1.5s\n",
      "[CV] END bootstrap=True, max_depth=50, max_features=2, min_samples_leaf=3, min_samples_split=12, n_estimators=200; total time=   0.6s\n",
      "[CV] END bootstrap=True, max_depth=50, max_features=2, min_samples_leaf=4, min_samples_split=8, n_estimators=200; total time=   0.9s\n",
      "[CV] END bootstrap=True, max_depth=50, max_features=2, min_samples_leaf=3, min_samples_split=12, n_estimators=500; total time=   1.9s\n",
      "[CV] END bootstrap=True, max_depth=50, max_features=2, min_samples_leaf=3, min_samples_split=12, n_estimators=500; total time=   1.9s\n",
      "[CV] END bootstrap=True, max_depth=50, max_features=2, min_samples_leaf=4, min_samples_split=8, n_estimators=200; total time=   0.7s\n",
      "[CV] END bootstrap=True, max_depth=50, max_features=2, min_samples_leaf=3, min_samples_split=12, n_estimators=500; total time=   1.9s\n",
      "[CV] END bootstrap=True, max_depth=50, max_features=2, min_samples_leaf=4, min_samples_split=8, n_estimators=200; total time=   0.6s\n",
      "[CV] END bootstrap=True, max_depth=50, max_features=2, min_samples_leaf=4, min_samples_split=10, n_estimators=200; total time=   0.6s\n",
      "[CV] END bootstrap=True, max_depth=50, max_features=2, min_samples_leaf=4, min_samples_split=8, n_estimators=500; total time=   1.4s\n",
      "[CV] END bootstrap=True, max_depth=50, max_features=2, min_samples_leaf=4, min_samples_split=10, n_estimators=200; total time=   0.6s\n",
      "[CV] END bootstrap=True, max_depth=50, max_features=2, min_samples_leaf=4, min_samples_split=8, n_estimators=500; total time=   1.4s\n",
      "[CV] END bootstrap=True, max_depth=50, max_features=2, min_samples_leaf=4, min_samples_split=8, n_estimators=500; total time=   1.4s\n",
      "[CV] END bootstrap=True, max_depth=50, max_features=2, min_samples_leaf=4, min_samples_split=10, n_estimators=200; total time=   0.6s\n",
      "[CV] END bootstrap=True, max_depth=50, max_features=2, min_samples_leaf=4, min_samples_split=12, n_estimators=200; total time=   0.6s\n",
      "[CV] END bootstrap=True, max_depth=50, max_features=2, min_samples_leaf=4, min_samples_split=10, n_estimators=500; total time=   1.4s\n",
      "[CV] END bootstrap=True, max_depth=50, max_features=2, min_samples_leaf=4, min_samples_split=10, n_estimators=500; total time=   1.5s\n",
      "[CV] END bootstrap=True, max_depth=50, max_features=2, min_samples_leaf=4, min_samples_split=10, n_estimators=500; total time=   1.5s\n",
      "[CV] END bootstrap=True, max_depth=50, max_features=2, min_samples_leaf=4, min_samples_split=12, n_estimators=200; total time=   0.6s\n",
      "[CV] END bootstrap=True, max_depth=50, max_features=2, min_samples_leaf=4, min_samples_split=12, n_estimators=200; total time=   0.6s\n",
      "[CV] END bootstrap=True, max_depth=50, max_features=2, min_samples_leaf=5, min_samples_split=8, n_estimators=200; total time=   0.6s\n",
      "[CV] END bootstrap=True, max_depth=50, max_features=2, min_samples_leaf=4, min_samples_split=12, n_estimators=500; total time=   1.5s\n",
      "[CV] END bootstrap=True, max_depth=50, max_features=2, min_samples_leaf=4, min_samples_split=12, n_estimators=500; total time=   1.5s\n",
      "[CV] END bootstrap=True, max_depth=50, max_features=2, min_samples_leaf=5, min_samples_split=8, n_estimators=200; total time=   0.6s\n",
      "[CV] END bootstrap=True, max_depth=50, max_features=2, min_samples_leaf=4, min_samples_split=12, n_estimators=500; total time=   1.6s\n",
      "[CV] END bootstrap=True, max_depth=50, max_features=2, min_samples_leaf=5, min_samples_split=8, n_estimators=200; total time=   0.6s\n",
      "[CV] END bootstrap=True, max_depth=50, max_features=2, min_samples_leaf=5, min_samples_split=10, n_estimators=200; total time=   0.9s\n",
      "[CV] END bootstrap=True, max_depth=50, max_features=2, min_samples_leaf=5, min_samples_split=8, n_estimators=500; total time=   2.0s\n",
      "[CV] END bootstrap=True, max_depth=50, max_features=2, min_samples_leaf=5, min_samples_split=8, n_estimators=500; total time=   2.0s\n",
      "[CV] END bootstrap=True, max_depth=50, max_features=2, min_samples_leaf=5, min_samples_split=8, n_estimators=500; total time=   2.0s\n",
      "[CV] END bootstrap=True, max_depth=50, max_features=2, min_samples_leaf=5, min_samples_split=10, n_estimators=200; total time=   0.9s\n",
      "[CV] END bootstrap=True, max_depth=50, max_features=2, min_samples_leaf=5, min_samples_split=10, n_estimators=200; total time=   0.6s\n",
      "[CV] END bootstrap=True, max_depth=50, max_features=2, min_samples_leaf=5, min_samples_split=12, n_estimators=200; total time=   0.6s\n",
      "[CV] END bootstrap=True, max_depth=50, max_features=2, min_samples_leaf=5, min_samples_split=10, n_estimators=500; total time=   1.4s\n",
      "[CV] END bootstrap=True, max_depth=50, max_features=2, min_samples_leaf=5, min_samples_split=10, n_estimators=500; total time=   1.5s\n",
      "[CV] END bootstrap=True, max_depth=50, max_features=2, min_samples_leaf=5, min_samples_split=10, n_estimators=500; total time=   1.5s\n",
      "[CV] END bootstrap=True, max_depth=50, max_features=2, min_samples_leaf=5, min_samples_split=12, n_estimators=200; total time=   0.6s\n",
      "[CV] END bootstrap=True, max_depth=50, max_features=2, min_samples_leaf=5, min_samples_split=12, n_estimators=200; total time=   0.6s\n",
      "[CV] END bootstrap=True, max_depth=50, max_features=3, min_samples_leaf=3, min_samples_split=8, n_estimators=200; total time=   0.6s\n",
      "[CV] END bootstrap=True, max_depth=50, max_features=2, min_samples_leaf=5, min_samples_split=12, n_estimators=500; total time=   1.4s\n",
      "[CV] END bootstrap=True, max_depth=50, max_features=2, min_samples_leaf=5, min_samples_split=12, n_estimators=500; total time=   1.4s\n",
      "[CV] END bootstrap=True, max_depth=50, max_features=2, min_samples_leaf=5, min_samples_split=12, n_estimators=500; total time=   1.4s\n",
      "[CV] END bootstrap=True, max_depth=50, max_features=3, min_samples_leaf=3, min_samples_split=8, n_estimators=200; total time=   0.6s\n",
      "[CV] END bootstrap=True, max_depth=50, max_features=3, min_samples_leaf=3, min_samples_split=8, n_estimators=200; total time=   0.6s\n",
      "[CV] END bootstrap=True, max_depth=50, max_features=3, min_samples_leaf=3, min_samples_split=10, n_estimators=200; total time=   0.6s\n",
      "[CV] END bootstrap=True, max_depth=50, max_features=3, min_samples_leaf=3, min_samples_split=8, n_estimators=500; total time=   1.4s\n",
      "[CV] END bootstrap=True, max_depth=50, max_features=3, min_samples_leaf=3, min_samples_split=8, n_estimators=500; total time=   1.5s\n",
      "[CV] END bootstrap=True, max_depth=50, max_features=3, min_samples_leaf=3, min_samples_split=10, n_estimators=200; total time=   0.6s\n",
      "[CV] END bootstrap=True, max_depth=50, max_features=3, min_samples_leaf=3, min_samples_split=8, n_estimators=500; total time=   1.5s\n",
      "[CV] END bootstrap=True, max_depth=50, max_features=3, min_samples_leaf=3, min_samples_split=10, n_estimators=200; total time=   0.6s\n",
      "[CV] END bootstrap=True, max_depth=50, max_features=3, min_samples_leaf=3, min_samples_split=12, n_estimators=200; total time=   0.5s\n",
      "[CV] END bootstrap=True, max_depth=50, max_features=3, min_samples_leaf=3, min_samples_split=10, n_estimators=500; total time=   1.4s\n",
      "[CV] END bootstrap=True, max_depth=50, max_features=3, min_samples_leaf=3, min_samples_split=10, n_estimators=500; total time=   1.4s\n",
      "[CV] END bootstrap=True, max_depth=50, max_features=3, min_samples_leaf=3, min_samples_split=10, n_estimators=500; total time=   1.4s\n",
      "[CV] END bootstrap=True, max_depth=50, max_features=3, min_samples_leaf=3, min_samples_split=12, n_estimators=200; total time=   0.6s\n",
      "[CV] END bootstrap=True, max_depth=50, max_features=3, min_samples_leaf=3, min_samples_split=12, n_estimators=200; total time=   0.6s\n",
      "[CV] END bootstrap=True, max_depth=50, max_features=3, min_samples_leaf=4, min_samples_split=8, n_estimators=200; total time=   0.6s\n",
      "[CV] END bootstrap=True, max_depth=50, max_features=3, min_samples_leaf=3, min_samples_split=12, n_estimators=500; total time=   1.4s\n",
      "[CV] END bootstrap=True, max_depth=50, max_features=3, min_samples_leaf=3, min_samples_split=12, n_estimators=500; total time=   1.4s\n",
      "[CV] END bootstrap=True, max_depth=50, max_features=3, min_samples_leaf=3, min_samples_split=12, n_estimators=500; total time=   1.4s\n",
      "[CV] END bootstrap=True, max_depth=50, max_features=3, min_samples_leaf=4, min_samples_split=8, n_estimators=200; total time=   0.6s\n",
      "[CV] END bootstrap=True, max_depth=50, max_features=3, min_samples_leaf=4, min_samples_split=8, n_estimators=200; total time=   0.6s\n",
      "[CV] END bootstrap=True, max_depth=50, max_features=3, min_samples_leaf=4, min_samples_split=10, n_estimators=200; total time=   0.6s\n",
      "[CV] END bootstrap=True, max_depth=50, max_features=3, min_samples_leaf=4, min_samples_split=8, n_estimators=500; total time=   1.4s\n",
      "[CV] END bootstrap=True, max_depth=50, max_features=3, min_samples_leaf=4, min_samples_split=8, n_estimators=500; total time=   1.4s\n",
      "[CV] END bootstrap=True, max_depth=50, max_features=3, min_samples_leaf=4, min_samples_split=8, n_estimators=500; total time=   1.5s\n",
      "[CV] END bootstrap=True, max_depth=50, max_features=3, min_samples_leaf=4, min_samples_split=10, n_estimators=200; total time=   0.6s\n",
      "[CV] END bootstrap=True, max_depth=50, max_features=3, min_samples_leaf=4, min_samples_split=10, n_estimators=200; total time=   0.6s\n",
      "[CV] END bootstrap=True, max_depth=50, max_features=3, min_samples_leaf=4, min_samples_split=12, n_estimators=200; total time=   0.6s\n",
      "[CV] END bootstrap=True, max_depth=50, max_features=3, min_samples_leaf=4, min_samples_split=10, n_estimators=500; total time=   1.7s\n",
      "[CV] END bootstrap=True, max_depth=50, max_features=3, min_samples_leaf=4, min_samples_split=10, n_estimators=500; total time=   1.7s\n",
      "[CV] END bootstrap=True, max_depth=50, max_features=3, min_samples_leaf=4, min_samples_split=10, n_estimators=500; total time=   1.7s\n",
      "[CV] END bootstrap=True, max_depth=50, max_features=3, min_samples_leaf=4, min_samples_split=12, n_estimators=200; total time=   0.8s\n",
      "[CV] END bootstrap=True, max_depth=50, max_features=3, min_samples_leaf=4, min_samples_split=12, n_estimators=200; total time=   0.6s\n",
      "[CV] END bootstrap=True, max_depth=50, max_features=3, min_samples_leaf=5, min_samples_split=8, n_estimators=200; total time=   0.6s\n",
      "[CV] END bootstrap=True, max_depth=50, max_features=3, min_samples_leaf=4, min_samples_split=12, n_estimators=500; total time=   1.4s\n",
      "[CV] END bootstrap=True, max_depth=50, max_features=3, min_samples_leaf=4, min_samples_split=12, n_estimators=500; total time=   1.5s\n",
      "[CV] END bootstrap=True, max_depth=50, max_features=3, min_samples_leaf=4, min_samples_split=12, n_estimators=500; total time=   1.5s\n",
      "[CV] END bootstrap=True, max_depth=50, max_features=3, min_samples_leaf=5, min_samples_split=8, n_estimators=200; total time=   0.7s\n",
      "[CV] END bootstrap=True, max_depth=50, max_features=3, min_samples_leaf=5, min_samples_split=8, n_estimators=200; total time=   0.7s\n",
      "[CV] END bootstrap=True, max_depth=50, max_features=3, min_samples_leaf=5, min_samples_split=10, n_estimators=200; total time=   0.6s\n",
      "[CV] END bootstrap=True, max_depth=50, max_features=3, min_samples_leaf=5, min_samples_split=8, n_estimators=500; total time=   1.5s\n",
      "[CV] END bootstrap=True, max_depth=50, max_features=3, min_samples_leaf=5, min_samples_split=8, n_estimators=500; total time=   1.5s\n",
      "[CV] END bootstrap=True, max_depth=50, max_features=3, min_samples_leaf=5, min_samples_split=8, n_estimators=500; total time=   1.5s\n",
      "[CV] END bootstrap=True, max_depth=50, max_features=3, min_samples_leaf=5, min_samples_split=10, n_estimators=200; total time=   0.6s\n",
      "[CV] END bootstrap=True, max_depth=50, max_features=3, min_samples_leaf=5, min_samples_split=10, n_estimators=200; total time=   0.6s\n",
      "[CV] END bootstrap=True, max_depth=50, max_features=3, min_samples_leaf=5, min_samples_split=12, n_estimators=200; total time=   0.6s\n",
      "[CV] END bootstrap=True, max_depth=50, max_features=3, min_samples_leaf=5, min_samples_split=10, n_estimators=500; total time=   1.5s\n",
      "[CV] END bootstrap=True, max_depth=50, max_features=3, min_samples_leaf=5, min_samples_split=10, n_estimators=500; total time=   1.5s\n",
      "[CV] END bootstrap=True, max_depth=50, max_features=3, min_samples_leaf=5, min_samples_split=10, n_estimators=500; total time=   1.5s\n",
      "[CV] END bootstrap=True, max_depth=50, max_features=3, min_samples_leaf=5, min_samples_split=12, n_estimators=200; total time=   0.6s\n",
      "[CV] END bootstrap=True, max_depth=50, max_features=3, min_samples_leaf=5, min_samples_split=12, n_estimators=200; total time=   0.6s\n",
      "[CV] END bootstrap=True, max_depth=80, max_features=2, min_samples_leaf=3, min_samples_split=8, n_estimators=200; total time=   0.6s\n",
      "[CV] END bootstrap=True, max_depth=50, max_features=3, min_samples_leaf=5, min_samples_split=12, n_estimators=500; total time=   1.6s\n",
      "[CV] END bootstrap=True, max_depth=50, max_features=3, min_samples_leaf=5, min_samples_split=12, n_estimators=500; total time=   1.6s\n",
      "[CV] END bootstrap=True, max_depth=50, max_features=3, min_samples_leaf=5, min_samples_split=12, n_estimators=500; total time=   1.6s\n",
      "[CV] END bootstrap=True, max_depth=80, max_features=2, min_samples_leaf=3, min_samples_split=8, n_estimators=200; total time=   0.7s\n",
      "[CV] END bootstrap=True, max_depth=80, max_features=2, min_samples_leaf=3, min_samples_split=8, n_estimators=200; total time=   0.6s\n",
      "[CV] END bootstrap=True, max_depth=80, max_features=2, min_samples_leaf=3, min_samples_split=10, n_estimators=200; total time=   0.6s\n",
      "[CV] END bootstrap=True, max_depth=80, max_features=2, min_samples_leaf=3, min_samples_split=8, n_estimators=500; total time=   1.5s\n",
      "[CV] END bootstrap=True, max_depth=80, max_features=2, min_samples_leaf=3, min_samples_split=8, n_estimators=500; total time=   1.5s\n",
      "[CV] END bootstrap=True, max_depth=80, max_features=2, min_samples_leaf=3, min_samples_split=8, n_estimators=500; total time=   1.4s\n",
      "[CV] END bootstrap=True, max_depth=80, max_features=2, min_samples_leaf=3, min_samples_split=10, n_estimators=200; total time=   0.6s\n",
      "[CV] END bootstrap=True, max_depth=80, max_features=2, min_samples_leaf=3, min_samples_split=10, n_estimators=200; total time=   0.6s\n",
      "[CV] END bootstrap=True, max_depth=80, max_features=2, min_samples_leaf=3, min_samples_split=12, n_estimators=200; total time=   0.5s\n",
      "[CV] END bootstrap=True, max_depth=80, max_features=2, min_samples_leaf=3, min_samples_split=10, n_estimators=500; total time=   1.4s\n",
      "[CV] END bootstrap=True, max_depth=80, max_features=2, min_samples_leaf=3, min_samples_split=10, n_estimators=500; total time=   1.4s\n",
      "[CV] END bootstrap=True, max_depth=80, max_features=2, min_samples_leaf=3, min_samples_split=10, n_estimators=500; total time=   1.4s\n",
      "[CV] END bootstrap=True, max_depth=80, max_features=2, min_samples_leaf=3, min_samples_split=12, n_estimators=200; total time=   0.6s\n",
      "[CV] END bootstrap=True, max_depth=80, max_features=2, min_samples_leaf=3, min_samples_split=12, n_estimators=200; total time=   0.6s\n",
      "[CV] END bootstrap=True, max_depth=80, max_features=2, min_samples_leaf=4, min_samples_split=8, n_estimators=200; total time=   0.6s\n",
      "[CV] END bootstrap=True, max_depth=80, max_features=2, min_samples_leaf=3, min_samples_split=12, n_estimators=500; total time=   1.4s\n",
      "[CV] END bootstrap=True, max_depth=80, max_features=2, min_samples_leaf=3, min_samples_split=12, n_estimators=500; total time=   1.4s\n",
      "[CV] END bootstrap=True, max_depth=80, max_features=2, min_samples_leaf=3, min_samples_split=12, n_estimators=500; total time=   1.4s\n",
      "[CV] END bootstrap=True, max_depth=80, max_features=2, min_samples_leaf=4, min_samples_split=8, n_estimators=200; total time=   0.6s\n",
      "[CV] END bootstrap=True, max_depth=80, max_features=2, min_samples_leaf=4, min_samples_split=8, n_estimators=200; total time=   0.6s\n",
      "[CV] END bootstrap=True, max_depth=80, max_features=2, min_samples_leaf=4, min_samples_split=10, n_estimators=200; total time=   0.6s\n",
      "[CV] END bootstrap=True, max_depth=80, max_features=2, min_samples_leaf=4, min_samples_split=8, n_estimators=500; total time=   1.4s\n",
      "[CV] END bootstrap=True, max_depth=80, max_features=2, min_samples_leaf=4, min_samples_split=8, n_estimators=500; total time=   1.5s\n",
      "[CV] END bootstrap=True, max_depth=80, max_features=2, min_samples_leaf=4, min_samples_split=8, n_estimators=500; total time=   1.4s\n",
      "[CV] END bootstrap=True, max_depth=80, max_features=2, min_samples_leaf=4, min_samples_split=10, n_estimators=200; total time=   0.6s\n",
      "[CV] END bootstrap=True, max_depth=80, max_features=2, min_samples_leaf=4, min_samples_split=10, n_estimators=200; total time=   0.6s\n",
      "[CV] END bootstrap=True, max_depth=80, max_features=2, min_samples_leaf=4, min_samples_split=12, n_estimators=200; total time=   0.5s\n",
      "[CV] END bootstrap=True, max_depth=80, max_features=2, min_samples_leaf=4, min_samples_split=10, n_estimators=500; total time=   1.4s\n",
      "[CV] END bootstrap=True, max_depth=80, max_features=2, min_samples_leaf=4, min_samples_split=10, n_estimators=500; total time=   1.4s\n",
      "[CV] END bootstrap=True, max_depth=80, max_features=2, min_samples_leaf=4, min_samples_split=10, n_estimators=500; total time=   1.4s\n",
      "[CV] END bootstrap=True, max_depth=80, max_features=2, min_samples_leaf=4, min_samples_split=12, n_estimators=200; total time=   0.6s\n",
      "[CV] END bootstrap=True, max_depth=80, max_features=2, min_samples_leaf=4, min_samples_split=12, n_estimators=200; total time=   0.5s\n",
      "[CV] END bootstrap=True, max_depth=80, max_features=2, min_samples_leaf=5, min_samples_split=8, n_estimators=200; total time=   0.5s\n",
      "[CV] END bootstrap=True, max_depth=80, max_features=2, min_samples_leaf=4, min_samples_split=12, n_estimators=500; total time=   1.4s\n",
      "[CV] END bootstrap=True, max_depth=80, max_features=2, min_samples_leaf=4, min_samples_split=12, n_estimators=500; total time=   1.4s\n",
      "[CV] END bootstrap=True, max_depth=80, max_features=2, min_samples_leaf=5, min_samples_split=8, n_estimators=200; total time=   0.9s\n",
      "[CV] END bootstrap=True, max_depth=80, max_features=2, min_samples_leaf=4, min_samples_split=12, n_estimators=500; total time=   1.7s\n",
      "[CV] END bootstrap=True, max_depth=80, max_features=2, min_samples_leaf=5, min_samples_split=8, n_estimators=200; total time=   0.9s\n",
      "[CV] END bootstrap=True, max_depth=80, max_features=2, min_samples_leaf=5, min_samples_split=10, n_estimators=200; total time=   0.6s\n",
      "[CV] END bootstrap=True, max_depth=80, max_features=2, min_samples_leaf=5, min_samples_split=8, n_estimators=500; total time=   1.7s\n",
      "[CV] END bootstrap=True, max_depth=80, max_features=2, min_samples_leaf=5, min_samples_split=8, n_estimators=500; total time=   1.5s\n",
      "[CV] END bootstrap=True, max_depth=80, max_features=2, min_samples_leaf=5, min_samples_split=8, n_estimators=500; total time=   1.5s\n",
      "[CV] END bootstrap=True, max_depth=80, max_features=2, min_samples_leaf=5, min_samples_split=10, n_estimators=200; total time=   0.6s\n",
      "[CV] END bootstrap=True, max_depth=80, max_features=2, min_samples_leaf=5, min_samples_split=10, n_estimators=200; total time=   0.6s\n",
      "[CV] END bootstrap=True, max_depth=80, max_features=2, min_samples_leaf=5, min_samples_split=12, n_estimators=200; total time=   0.6s\n",
      "[CV] END bootstrap=True, max_depth=80, max_features=2, min_samples_leaf=5, min_samples_split=10, n_estimators=500; total time=   1.5s\n",
      "[CV] END bootstrap=True, max_depth=80, max_features=2, min_samples_leaf=5, min_samples_split=12, n_estimators=200; total time=   0.5s\n",
      "[CV] END bootstrap=True, max_depth=80, max_features=2, min_samples_leaf=5, min_samples_split=10, n_estimators=500; total time=   1.4s\n",
      "[CV] END bootstrap=True, max_depth=80, max_features=2, min_samples_leaf=5, min_samples_split=10, n_estimators=500; total time=   1.5s\n",
      "[CV] END bootstrap=True, max_depth=80, max_features=2, min_samples_leaf=5, min_samples_split=12, n_estimators=200; total time=   0.6s\n",
      "[CV] END bootstrap=True, max_depth=80, max_features=3, min_samples_leaf=3, min_samples_split=8, n_estimators=200; total time=   0.6s\n",
      "[CV] END bootstrap=True, max_depth=80, max_features=2, min_samples_leaf=5, min_samples_split=12, n_estimators=500; total time=   1.4s\n",
      "[CV] END bootstrap=True, max_depth=80, max_features=2, min_samples_leaf=5, min_samples_split=12, n_estimators=500; total time=   1.4s\n",
      "[CV] END bootstrap=True, max_depth=80, max_features=2, min_samples_leaf=5, min_samples_split=12, n_estimators=500; total time=   1.4s\n",
      "[CV] END bootstrap=True, max_depth=80, max_features=3, min_samples_leaf=3, min_samples_split=8, n_estimators=200; total time=   0.6s\n",
      "[CV] END bootstrap=True, max_depth=80, max_features=3, min_samples_leaf=3, min_samples_split=8, n_estimators=200; total time=   0.6s\n",
      "[CV] END bootstrap=True, max_depth=80, max_features=3, min_samples_leaf=3, min_samples_split=10, n_estimators=200; total time=   0.6s\n",
      "[CV] END bootstrap=True, max_depth=80, max_features=3, min_samples_leaf=3, min_samples_split=8, n_estimators=500; total time=   1.4s\n",
      "[CV] END bootstrap=True, max_depth=80, max_features=3, min_samples_leaf=3, min_samples_split=8, n_estimators=500; total time=   1.4s\n",
      "[CV] END bootstrap=True, max_depth=80, max_features=3, min_samples_leaf=3, min_samples_split=8, n_estimators=500; total time=   1.4s\n",
      "[CV] END bootstrap=True, max_depth=80, max_features=3, min_samples_leaf=3, min_samples_split=10, n_estimators=200; total time=   0.6s\n",
      "[CV] END bootstrap=True, max_depth=80, max_features=3, min_samples_leaf=3, min_samples_split=10, n_estimators=200; total time=   0.6s\n",
      "[CV] END bootstrap=True, max_depth=80, max_features=3, min_samples_leaf=3, min_samples_split=12, n_estimators=200; total time=   0.5s\n",
      "[CV] END bootstrap=True, max_depth=80, max_features=3, min_samples_leaf=3, min_samples_split=10, n_estimators=500; total time=   1.4s\n",
      "[CV] END bootstrap=True, max_depth=80, max_features=3, min_samples_leaf=3, min_samples_split=10, n_estimators=500; total time=   1.3s\n",
      "[CV] END bootstrap=True, max_depth=80, max_features=3, min_samples_leaf=3, min_samples_split=10, n_estimators=500; total time=   1.4s\n",
      "[CV] END bootstrap=True, max_depth=80, max_features=3, min_samples_leaf=3, min_samples_split=12, n_estimators=200; total time=   0.6s\n",
      "[CV] END bootstrap=True, max_depth=80, max_features=3, min_samples_leaf=3, min_samples_split=12, n_estimators=200; total time=   0.6s\n",
      "[CV] END bootstrap=True, max_depth=80, max_features=3, min_samples_leaf=4, min_samples_split=8, n_estimators=200; total time=   0.5s\n",
      "[CV] END bootstrap=True, max_depth=80, max_features=3, min_samples_leaf=3, min_samples_split=12, n_estimators=500; total time=   1.5s\n",
      "[CV] END bootstrap=True, max_depth=80, max_features=3, min_samples_leaf=3, min_samples_split=12, n_estimators=500; total time=   1.5s\n",
      "[CV] END bootstrap=True, max_depth=80, max_features=3, min_samples_leaf=3, min_samples_split=12, n_estimators=500; total time=   1.5s\n",
      "[CV] END bootstrap=True, max_depth=80, max_features=3, min_samples_leaf=4, min_samples_split=8, n_estimators=200; total time=   0.7s\n",
      "[CV] END bootstrap=True, max_depth=80, max_features=3, min_samples_leaf=4, min_samples_split=8, n_estimators=200; total time=   0.6s\n",
      "[CV] END bootstrap=True, max_depth=80, max_features=3, min_samples_leaf=4, min_samples_split=10, n_estimators=200; total time=   0.6s\n",
      "[CV] END bootstrap=True, max_depth=80, max_features=3, min_samples_leaf=4, min_samples_split=8, n_estimators=500; total time=   1.5s\n",
      "[CV] END bootstrap=True, max_depth=80, max_features=3, min_samples_leaf=4, min_samples_split=8, n_estimators=500; total time=   1.6s\n",
      "[CV] END bootstrap=True, max_depth=80, max_features=3, min_samples_leaf=4, min_samples_split=8, n_estimators=500; total time=   1.6s\n",
      "[CV] END bootstrap=True, max_depth=80, max_features=3, min_samples_leaf=4, min_samples_split=10, n_estimators=200; total time=   0.7s\n",
      "[CV] END bootstrap=True, max_depth=80, max_features=3, min_samples_leaf=4, min_samples_split=10, n_estimators=200; total time=   0.6s\n",
      "[CV] END bootstrap=True, max_depth=80, max_features=3, min_samples_leaf=4, min_samples_split=12, n_estimators=200; total time=   0.6s\n",
      "[CV] END bootstrap=True, max_depth=80, max_features=3, min_samples_leaf=4, min_samples_split=10, n_estimators=500; total time=   1.4s\n",
      "[CV] END bootstrap=True, max_depth=80, max_features=3, min_samples_leaf=4, min_samples_split=10, n_estimators=500; total time=   1.5s\n",
      "[CV] END bootstrap=True, max_depth=80, max_features=3, min_samples_leaf=4, min_samples_split=10, n_estimators=500; total time=   1.4s\n",
      "[CV] END bootstrap=True, max_depth=80, max_features=3, min_samples_leaf=4, min_samples_split=12, n_estimators=200; total time=   0.6s\n",
      "[CV] END bootstrap=True, max_depth=80, max_features=3, min_samples_leaf=4, min_samples_split=12, n_estimators=200; total time=   0.6s\n",
      "[CV] END bootstrap=True, max_depth=80, max_features=3, min_samples_leaf=5, min_samples_split=8, n_estimators=200; total time=   0.5s\n",
      "[CV] END bootstrap=True, max_depth=80, max_features=3, min_samples_leaf=4, min_samples_split=12, n_estimators=500; total time=   1.6s\n",
      "[CV] END bootstrap=True, max_depth=80, max_features=3, min_samples_leaf=5, min_samples_split=8, n_estimators=200; total time=   0.7s\n",
      "[CV] END bootstrap=True, max_depth=80, max_features=3, min_samples_leaf=4, min_samples_split=12, n_estimators=500; total time=   1.6s\n",
      "[CV] END bootstrap=True, max_depth=80, max_features=3, min_samples_leaf=4, min_samples_split=12, n_estimators=500; total time=   1.6s\n",
      "[CV] END bootstrap=True, max_depth=80, max_features=3, min_samples_leaf=5, min_samples_split=8, n_estimators=200; total time=   0.5s\n",
      "[CV] END bootstrap=True, max_depth=80, max_features=3, min_samples_leaf=5, min_samples_split=10, n_estimators=200; total time=   0.5s\n",
      "[CV] END bootstrap=True, max_depth=80, max_features=3, min_samples_leaf=5, min_samples_split=8, n_estimators=500; total time=   1.4s\n",
      "[CV] END bootstrap=True, max_depth=80, max_features=3, min_samples_leaf=5, min_samples_split=8, n_estimators=500; total time=   1.4s\n",
      "[CV] END bootstrap=True, max_depth=80, max_features=3, min_samples_leaf=5, min_samples_split=10, n_estimators=200; total time=   0.5s\n",
      "[CV] END bootstrap=True, max_depth=80, max_features=3, min_samples_leaf=5, min_samples_split=8, n_estimators=500; total time=   1.5s\n",
      "[CV] END bootstrap=True, max_depth=80, max_features=3, min_samples_leaf=5, min_samples_split=10, n_estimators=200; total time=   0.6s\n",
      "[CV] END bootstrap=True, max_depth=80, max_features=3, min_samples_leaf=5, min_samples_split=12, n_estimators=200; total time=   0.6s\n",
      "[CV] END bootstrap=True, max_depth=80, max_features=3, min_samples_leaf=5, min_samples_split=10, n_estimators=500; total time=   1.5s\n",
      "[CV] END bootstrap=True, max_depth=80, max_features=3, min_samples_leaf=5, min_samples_split=10, n_estimators=500; total time=   1.5s\n",
      "[CV] END bootstrap=True, max_depth=80, max_features=3, min_samples_leaf=5, min_samples_split=10, n_estimators=500; total time=   1.5s\n",
      "[CV] END bootstrap=True, max_depth=80, max_features=3, min_samples_leaf=5, min_samples_split=12, n_estimators=200; total time=   0.6s\n",
      "[CV] END bootstrap=True, max_depth=80, max_features=3, min_samples_leaf=5, min_samples_split=12, n_estimators=200; total time=   0.6s\n",
      "[CV] END bootstrap=True, max_depth=80, max_features=3, min_samples_leaf=5, min_samples_split=12, n_estimators=500; total time=   1.2s\n",
      "[CV] END bootstrap=True, max_depth=80, max_features=3, min_samples_leaf=5, min_samples_split=12, n_estimators=500; total time=   1.2s\n",
      "[CV] END bootstrap=True, max_depth=80, max_features=3, min_samples_leaf=5, min_samples_split=12, n_estimators=500; total time=   1.1s\n"
     ]
    },
    {
     "data": {
      "text/html": [
       "<style>#sk-container-id-2 {color: black;background-color: white;}#sk-container-id-2 pre{padding: 0;}#sk-container-id-2 div.sk-toggleable {background-color: white;}#sk-container-id-2 label.sk-toggleable__label {cursor: pointer;display: block;width: 100%;margin-bottom: 0;padding: 0.3em;box-sizing: border-box;text-align: center;}#sk-container-id-2 label.sk-toggleable__label-arrow:before {content: \"▸\";float: left;margin-right: 0.25em;color: #696969;}#sk-container-id-2 label.sk-toggleable__label-arrow:hover:before {color: black;}#sk-container-id-2 div.sk-estimator:hover label.sk-toggleable__label-arrow:before {color: black;}#sk-container-id-2 div.sk-toggleable__content {max-height: 0;max-width: 0;overflow: hidden;text-align: left;background-color: #f0f8ff;}#sk-container-id-2 div.sk-toggleable__content pre {margin: 0.2em;color: black;border-radius: 0.25em;background-color: #f0f8ff;}#sk-container-id-2 input.sk-toggleable__control:checked~div.sk-toggleable__content {max-height: 200px;max-width: 100%;overflow: auto;}#sk-container-id-2 input.sk-toggleable__control:checked~label.sk-toggleable__label-arrow:before {content: \"▾\";}#sk-container-id-2 div.sk-estimator input.sk-toggleable__control:checked~label.sk-toggleable__label {background-color: #d4ebff;}#sk-container-id-2 div.sk-label input.sk-toggleable__control:checked~label.sk-toggleable__label {background-color: #d4ebff;}#sk-container-id-2 input.sk-hidden--visually {border: 0;clip: rect(1px 1px 1px 1px);clip: rect(1px, 1px, 1px, 1px);height: 1px;margin: -1px;overflow: hidden;padding: 0;position: absolute;width: 1px;}#sk-container-id-2 div.sk-estimator {font-family: monospace;background-color: #f0f8ff;border: 1px dotted black;border-radius: 0.25em;box-sizing: border-box;margin-bottom: 0.5em;}#sk-container-id-2 div.sk-estimator:hover {background-color: #d4ebff;}#sk-container-id-2 div.sk-parallel-item::after {content: \"\";width: 100%;border-bottom: 1px solid gray;flex-grow: 1;}#sk-container-id-2 div.sk-label:hover label.sk-toggleable__label {background-color: #d4ebff;}#sk-container-id-2 div.sk-serial::before {content: \"\";position: absolute;border-left: 1px solid gray;box-sizing: border-box;top: 0;bottom: 0;left: 50%;z-index: 0;}#sk-container-id-2 div.sk-serial {display: flex;flex-direction: column;align-items: center;background-color: white;padding-right: 0.2em;padding-left: 0.2em;position: relative;}#sk-container-id-2 div.sk-item {position: relative;z-index: 1;}#sk-container-id-2 div.sk-parallel {display: flex;align-items: stretch;justify-content: center;background-color: white;position: relative;}#sk-container-id-2 div.sk-item::before, #sk-container-id-2 div.sk-parallel-item::before {content: \"\";position: absolute;border-left: 1px solid gray;box-sizing: border-box;top: 0;bottom: 0;left: 50%;z-index: -1;}#sk-container-id-2 div.sk-parallel-item {display: flex;flex-direction: column;z-index: 1;position: relative;background-color: white;}#sk-container-id-2 div.sk-parallel-item:first-child::after {align-self: flex-end;width: 50%;}#sk-container-id-2 div.sk-parallel-item:last-child::after {align-self: flex-start;width: 50%;}#sk-container-id-2 div.sk-parallel-item:only-child::after {width: 0;}#sk-container-id-2 div.sk-dashed-wrapped {border: 1px dashed gray;margin: 0 0.4em 0.5em 0.4em;box-sizing: border-box;padding-bottom: 0.4em;background-color: white;}#sk-container-id-2 div.sk-label label {font-family: monospace;font-weight: bold;display: inline-block;line-height: 1.2em;}#sk-container-id-2 div.sk-label-container {text-align: center;}#sk-container-id-2 div.sk-container {/* jupyter's `normalize.less` sets `[hidden] { display: none; }` but bootstrap.min.css set `[hidden] { display: none !important; }` so we also need the `!important` here to be able to override the default hidden behavior on the sphinx rendered scikit-learn.org. See: https://github.com/scikit-learn/scikit-learn/issues/21755 */display: inline-block !important;position: relative;}#sk-container-id-2 div.sk-text-repr-fallback {display: none;}</style><div id=\"sk-container-id-2\" class=\"sk-top-container\"><div class=\"sk-text-repr-fallback\"><pre>GridSearchCV(cv=3, estimator=RandomForestClassifier(), n_jobs=-1,\n",
       "             param_grid={&#x27;bootstrap&#x27;: [True], &#x27;max_depth&#x27;: [50, 80],\n",
       "                         &#x27;max_features&#x27;: [2, 3], &#x27;min_samples_leaf&#x27;: [3, 4, 5],\n",
       "                         &#x27;min_samples_split&#x27;: [8, 10, 12],\n",
       "                         &#x27;n_estimators&#x27;: [200, 500]},\n",
       "             verbose=2)</pre><b>In a Jupyter environment, please rerun this cell to show the HTML representation or trust the notebook. <br />On GitHub, the HTML representation is unable to render, please try loading this page with nbviewer.org.</b></div><div class=\"sk-container\" hidden><div class=\"sk-item sk-dashed-wrapped\"><div class=\"sk-label-container\"><div class=\"sk-label sk-toggleable\"><input class=\"sk-toggleable__control sk-hidden--visually\" id=\"sk-estimator-id-4\" type=\"checkbox\" ><label for=\"sk-estimator-id-4\" class=\"sk-toggleable__label sk-toggleable__label-arrow\">GridSearchCV</label><div class=\"sk-toggleable__content\"><pre>GridSearchCV(cv=3, estimator=RandomForestClassifier(), n_jobs=-1,\n",
       "             param_grid={&#x27;bootstrap&#x27;: [True], &#x27;max_depth&#x27;: [50, 80],\n",
       "                         &#x27;max_features&#x27;: [2, 3], &#x27;min_samples_leaf&#x27;: [3, 4, 5],\n",
       "                         &#x27;min_samples_split&#x27;: [8, 10, 12],\n",
       "                         &#x27;n_estimators&#x27;: [200, 500]},\n",
       "             verbose=2)</pre></div></div></div><div class=\"sk-parallel\"><div class=\"sk-parallel-item\"><div class=\"sk-item\"><div class=\"sk-label-container\"><div class=\"sk-label sk-toggleable\"><input class=\"sk-toggleable__control sk-hidden--visually\" id=\"sk-estimator-id-5\" type=\"checkbox\" ><label for=\"sk-estimator-id-5\" class=\"sk-toggleable__label sk-toggleable__label-arrow\">estimator: RandomForestClassifier</label><div class=\"sk-toggleable__content\"><pre>RandomForestClassifier()</pre></div></div></div><div class=\"sk-serial\"><div class=\"sk-item\"><div class=\"sk-estimator sk-toggleable\"><input class=\"sk-toggleable__control sk-hidden--visually\" id=\"sk-estimator-id-6\" type=\"checkbox\" ><label for=\"sk-estimator-id-6\" class=\"sk-toggleable__label sk-toggleable__label-arrow\">RandomForestClassifier</label><div class=\"sk-toggleable__content\"><pre>RandomForestClassifier()</pre></div></div></div></div></div></div></div></div></div></div>"
      ],
      "text/plain": [
       "GridSearchCV(cv=3, estimator=RandomForestClassifier(), n_jobs=-1,\n",
       "             param_grid={'bootstrap': [True], 'max_depth': [50, 80],\n",
       "                         'max_features': [2, 3], 'min_samples_leaf': [3, 4, 5],\n",
       "                         'min_samples_split': [8, 10, 12],\n",
       "                         'n_estimators': [200, 500]},\n",
       "             verbose=2)"
      ]
     },
     "execution_count": 54,
     "metadata": {},
     "output_type": "execute_result"
    }
   ],
   "source": [
    "# Create a based model\n",
    "rf = RandomForestClassifier()\n",
    "# Instantiate the grid search model\n",
    "rf_model = GridSearchCV(estimator = rf, param_grid = rf_param_grid, \n",
    "                          cv = 3, n_jobs = -1, verbose = 2)\n",
    "\n",
    "rf_model.fit(X_train, y_train)"
   ]
  },
  {
   "cell_type": "code",
   "execution_count": 55,
   "metadata": {},
   "outputs": [
    {
     "data": {
      "text/plain": [
       "({'bootstrap': True,\n",
       "  'max_depth': 50,\n",
       "  'max_features': 2,\n",
       "  'min_samples_leaf': 3,\n",
       "  'min_samples_split': 8,\n",
       "  'n_estimators': 200},\n",
       " 0.9555555555555556,\n",
       " RandomForestClassifier(max_depth=50, max_features=2, min_samples_leaf=3,\n",
       "                        min_samples_split=8, n_estimators=200))"
      ]
     },
     "execution_count": 55,
     "metadata": {},
     "output_type": "execute_result"
    }
   ],
   "source": [
    "rf_model.best_params_, rf_model.best_score_, rf_model.best_estimator_\n"
   ]
  },
  {
   "cell_type": "code",
   "execution_count": 56,
   "metadata": {},
   "outputs": [],
   "source": [
    "pred_train_rf = rf_model.predict(X_train)\n",
    "pred_validation_rf = rf_model.predict(X_test)"
   ]
  },
  {
   "cell_type": "code",
   "execution_count": 57,
   "metadata": {},
   "outputs": [],
   "source": [
    "def printMetrics(y_train, pred_train, y_validation, pred_validation):\n",
    "    train_acc = accuracy_score(y_train, pred_train)\n",
    "    test_acc = accuracy_score(y_validation, pred_validation)\n",
    "    f_score = f1_score(y_validation, pred_validation)\n",
    "    print('train accuracy: ', train_acc)\n",
    "    print('train error:    ', 1. - train_acc)\n",
    "    print('test accuracy:  ', test_acc)\n",
    "    print('test error:     ', 1. - test_acc)\n",
    "    print('-'*100)\n",
    "    print('F-Score:\\t', f_score)\n",
    "    print('-'*100)\n",
    "\n",
    "    print(\"\\nTRAIN\\n\" + classification_report(y_train, pred_train))\n",
    "    print('-'*100)\n",
    "    print(\"\\nTESTING\\n\" + classification_report(y_validation, pred_validation))"
   ]
  },
  {
   "cell_type": "code",
   "execution_count": 58,
   "metadata": {},
   "outputs": [
    {
     "name": "stdout",
     "output_type": "stream",
     "text": [
      "train accuracy:  0.9688888888888889\n",
      "train error:     0.03111111111111109\n",
      "test accuracy:   0.9375\n",
      "test error:      0.0625\n",
      "----------------------------------------------------------------------------------------------------\n",
      "F-Score:\t 0.964102564102564\n",
      "----------------------------------------------------------------------------------------------------\n",
      "\n",
      "TRAIN\n",
      "              precision    recall  f1-score   support\n",
      "\n",
      "         0.0       1.00      0.84      0.91        43\n",
      "         1.0       0.96      1.00      0.98       182\n",
      "\n",
      "    accuracy                           0.97       225\n",
      "   macro avg       0.98      0.92      0.95       225\n",
      "weighted avg       0.97      0.97      0.97       225\n",
      "\n",
      "----------------------------------------------------------------------------------------------------\n",
      "\n",
      "TESTING\n",
      "              precision    recall  f1-score   support\n",
      "\n",
      "         0.0       0.92      0.65      0.76        17\n",
      "         1.0       0.94      0.99      0.96        95\n",
      "\n",
      "    accuracy                           0.94       112\n",
      "   macro avg       0.93      0.82      0.86       112\n",
      "weighted avg       0.94      0.94      0.93       112\n",
      "\n"
     ]
    }
   ],
   "source": [
    "printMetrics(y_train, pred_train_rf, y_test, pred_validation_rf)\n"
   ]
  },
  {
   "cell_type": "code",
   "execution_count": 49,
   "metadata": {},
   "outputs": [
    {
     "name": "stdout",
     "output_type": "stream",
     "text": [
      "Fitting 3 folds for each of 4 candidates, totalling 12 fits\n",
      "[CV] END .....bootstrap=True, max_depth=50, n_estimators=200; total time=   0.5s\n",
      "[CV] END .....bootstrap=True, max_depth=50, n_estimators=200; total time=   0.5s\n",
      "[CV] END .....bootstrap=True, max_depth=50, n_estimators=200; total time=   0.5s\n",
      "[CV] END .....bootstrap=True, max_depth=80, n_estimators=200; total time=   0.5s\n",
      "[CV] END .....bootstrap=True, max_depth=50, n_estimators=500; total time=   1.3s\n",
      "[CV] END .....bootstrap=True, max_depth=80, n_estimators=200; total time=   0.5s\n",
      "[CV] END .....bootstrap=True, max_depth=80, n_estimators=200; total time=   0.5s\n",
      "[CV] END .....bootstrap=True, max_depth=50, n_estimators=500; total time=   1.3s\n",
      "[CV] END .....bootstrap=True, max_depth=50, n_estimators=500; total time=   1.3s\n",
      "[CV] END .....bootstrap=True, max_depth=80, n_estimators=500; total time=   1.1s\n",
      "[CV] END .....bootstrap=True, max_depth=80, n_estimators=500; total time=   0.9s\n",
      "[CV] END .....bootstrap=True, max_depth=80, n_estimators=500; total time=   0.9s\n",
      "Fitting 3 folds for each of 4 candidates, totalling 12 fits\n",
      "[CV] END .....bootstrap=True, max_depth=50, n_estimators=200; total time=   0.5s\n",
      "[CV] END .....bootstrap=True, max_depth=50, n_estimators=200; total time=   0.5s\n",
      "[CV] END .....bootstrap=True, max_depth=50, n_estimators=200; total time=   0.5s\n",
      "[CV] END .....bootstrap=True, max_depth=80, n_estimators=200; total time=   0.5s\n",
      "[CV] END .....bootstrap=True, max_depth=50, n_estimators=500; total time=   1.2s\n",
      "[CV] END .....bootstrap=True, max_depth=80, n_estimators=200; total time=   0.5s\n",
      "[CV] END .....bootstrap=True, max_depth=50, n_estimators=500; total time=   1.3s\n",
      "[CV] END .....bootstrap=True, max_depth=80, n_estimators=200; total time=   0.5s\n",
      "[CV] END .....bootstrap=True, max_depth=50, n_estimators=500; total time=   1.3s\n",
      "[CV] END .....bootstrap=True, max_depth=80, n_estimators=500; total time=   1.0s\n",
      "[CV] END .....bootstrap=True, max_depth=80, n_estimators=500; total time=   0.9s\n",
      "[CV] END .....bootstrap=True, max_depth=80, n_estimators=500; total time=   0.9s\n",
      "Fitting 3 folds for each of 4 candidates, totalling 12 fits\n",
      "[CV] END .....bootstrap=True, max_depth=50, n_estimators=200; total time=   0.6s\n",
      "[CV] END .....bootstrap=True, max_depth=50, n_estimators=200; total time=   0.6s\n",
      "[CV] END .....bootstrap=True, max_depth=50, n_estimators=200; total time=   0.6s\n",
      "[CV] END .....bootstrap=True, max_depth=80, n_estimators=200; total time=   0.7s\n",
      "[CV] END .....bootstrap=True, max_depth=50, n_estimators=500; total time=   1.6s\n",
      "[CV] END .....bootstrap=True, max_depth=80, n_estimators=200; total time=   0.5s\n",
      "[CV] END .....bootstrap=True, max_depth=50, n_estimators=500; total time=   1.5s\n",
      "[CV] END .....bootstrap=True, max_depth=80, n_estimators=200; total time=   0.5s\n",
      "[CV] END .....bootstrap=True, max_depth=50, n_estimators=500; total time=   1.5s\n",
      "[CV] END .....bootstrap=True, max_depth=80, n_estimators=500; total time=   1.1s\n",
      "[CV] END .....bootstrap=True, max_depth=80, n_estimators=500; total time=   1.2s\n",
      "[CV] END .....bootstrap=True, max_depth=80, n_estimators=500; total time=   1.1s\n",
      "Fitting 3 folds for each of 4 candidates, totalling 12 fits\n",
      "[CV] END .....bootstrap=True, max_depth=50, n_estimators=200; total time=   0.5s\n",
      "[CV] END .....bootstrap=True, max_depth=50, n_estimators=200; total time=   0.5s\n",
      "[CV] END .....bootstrap=True, max_depth=50, n_estimators=200; total time=   0.5s\n",
      "[CV] END .....bootstrap=True, max_depth=80, n_estimators=200; total time=   0.5s\n",
      "[CV] END .....bootstrap=True, max_depth=50, n_estimators=500; total time=   1.2s\n",
      "[CV] END .....bootstrap=True, max_depth=80, n_estimators=200; total time=   0.5s\n",
      "[CV] END .....bootstrap=True, max_depth=80, n_estimators=200; total time=   0.5s\n",
      "[CV] END .....bootstrap=True, max_depth=50, n_estimators=500; total time=   1.3s\n",
      "[CV] END .....bootstrap=True, max_depth=50, n_estimators=500; total time=   1.3s\n",
      "[CV] END .....bootstrap=True, max_depth=80, n_estimators=500; total time=   1.2s\n",
      "[CV] END .....bootstrap=True, max_depth=80, n_estimators=500; total time=   1.2s\n",
      "[CV] END .....bootstrap=True, max_depth=80, n_estimators=500; total time=   1.2s\n",
      "Fitting 3 folds for each of 4 candidates, totalling 12 fits\n",
      "[CV] END .....bootstrap=True, max_depth=50, n_estimators=200; total time=   0.6s\n",
      "[CV] END .....bootstrap=True, max_depth=50, n_estimators=200; total time=   0.6s\n",
      "[CV] END .....bootstrap=True, max_depth=50, n_estimators=200; total time=   0.6s\n",
      "[CV] END .....bootstrap=True, max_depth=80, n_estimators=200; total time=   0.6s\n",
      "[CV] END .....bootstrap=True, max_depth=50, n_estimators=500; total time=   1.4s\n",
      "[CV] END .....bootstrap=True, max_depth=80, n_estimators=200; total time=   1.1s\n",
      "[CV] END .....bootstrap=True, max_depth=50, n_estimators=500; total time=   1.9s\n",
      "[CV] END .....bootstrap=True, max_depth=50, n_estimators=500; total time=   1.9s\n",
      "[CV] END .....bootstrap=True, max_depth=80, n_estimators=200; total time=   1.0s\n",
      "[CV] END .....bootstrap=True, max_depth=80, n_estimators=500; total time=   1.2s\n",
      "[CV] END .....bootstrap=True, max_depth=80, n_estimators=500; total time=   1.1s\n",
      "[CV] END .....bootstrap=True, max_depth=80, n_estimators=500; total time=   1.1s\n"
     ]
    }
   ],
   "source": [
    "from sklearn.metrics import roc_curve\n",
    "from sklearn.metrics import roc_auc_score\n",
    "from sklearn.model_selection import cross_val_predict\n",
    "\n",
    "rf_pred = cross_val_predict(rf_model, X_train, y_train, cv=5)"
   ]
  },
  {
   "cell_type": "code",
   "execution_count": 50,
   "metadata": {},
   "outputs": [
    {
     "name": "stdout",
     "output_type": "stream",
     "text": [
      "RandomForest: 0.9042294914387938\n"
     ]
    }
   ],
   "source": [
    "print(\"RandomForest: {}\".format(roc_auc_score(y_train, rf_pred)) )\n"
   ]
  }
 ],
 "metadata": {
  "kernelspec": {
   "display_name": "Python 3.10.6 ('dev')",
   "language": "python",
   "name": "python3"
  },
  "language_info": {
   "codemirror_mode": {
    "name": "ipython",
    "version": 3
   },
   "file_extension": ".py",
   "mimetype": "text/x-python",
   "name": "python",
   "nbconvert_exporter": "python",
   "pygments_lexer": "ipython3",
   "version": "3.10.6"
  },
  "orig_nbformat": 4,
  "vscode": {
   "interpreter": {
    "hash": "86a17b2477ee5d441af78d5f2ed55bdbe2dcd2e687a4054b54f1aeabeacde211"
   }
  }
 },
 "nbformat": 4,
 "nbformat_minor": 2
}
